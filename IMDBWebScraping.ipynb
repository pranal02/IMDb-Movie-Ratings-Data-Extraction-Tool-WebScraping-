{
 "cells": [
  {
   "cell_type": "code",
   "execution_count": 35,
   "id": "2606ebb9-8287-4ee1-8080-98ca72769ff5",
   "metadata": {},
   "outputs": [
    {
     "name": "stdout",
     "output_type": "stream",
     "text": [
      "Requirement already satisfied: beautifulsoup4 in e:\\anaconda_instalation\\lib\\site-packages (4.12.2)\n",
      "Requirement already satisfied: soupsieve>1.2 in e:\\anaconda_instalation\\lib\\site-packages (from beautifulsoup4) (2.5)\n"
     ]
    }
   ],
   "source": [
    "!pip install beautifulsoup4\n",
    "import pandas as pd\n",
    "import requests , openpyxl\n",
    "from bs4 import BeautifulSoup"
   ]
  },
  {
   "cell_type": "code",
   "execution_count": 37,
   "id": "885d79cc-fe19-43af-9b9b-63f9ae815755",
   "metadata": {},
   "outputs": [
    {
     "name": "stdout",
     "output_type": "stream",
     "text": [
      "1  The Shawshank Redemption 1994 9.3\n",
      "2  The Godfather 1972 9.2\n",
      "3  The Dark Knight 2008 9.0\n",
      "4  The Godfather Part II 1974 9.0\n",
      "5  12 Angry Men 1957 9.0\n",
      "6  Schindler's List 1993 9.0\n",
      "7  The Lord of the Rings: The Return of the King 2003 9.0\n",
      "8  Pulp Fiction 1994 8.9\n",
      "9  The Lord of the Rings: The Fellowship of the Ring 2001 8.9\n",
      "10  The Good, the Bad and the Ugly 1966 8.8\n",
      "11  Forrest Gump 1994 8.8\n",
      "12  The Lord of the Rings: The Two Towers 2002 8.8\n",
      "13  Fight Club 1999 8.8\n",
      "14  Inception 2010 8.8\n",
      "15  Star Wars: Episode V - The Empire Strikes Back 1980 8.7\n",
      "16  The Matrix 1999 8.7\n",
      "17  Goodfellas 1990 8.7\n",
      "18  One Flew Over the Cuckoo's Nest 1975 8.7\n",
      "19  Interstellar 2014 8.7\n",
      "20  Se7en 1995 8.6\n",
      "21  It's a Wonderful Life 1946 8.6\n",
      "22  Seven Samurai 1954 8.6\n",
      "23  The Silence of the Lambs 1991 8.6\n",
      "24  Saving Private Ryan 1998 8.6\n",
      "25  City of God 2002 8.6\n"
     ]
    }
   ],
   "source": [
    "excel=openpyxl.Workbook()\n",
    "sheet=excel.active\n",
    "sheet.title='Top Rated Movies'\n",
    "sheet.append(['Movie Rating','Movie Name','Movie Released Year','Movie Rating'])\n",
    "\n",
    "\n",
    "try:\n",
    "    HEADERS = ({'User-Agent':'Mozilla/5.0 (Windows NT 10.0; Win64; x64) AppleWebKit/537.36 (KHTML, like Gecko) Chrome/123.0.0.0 Safari/537.36','Accept-Language':'en-US,en;q=0.5'})\n",
    "    source = requests.get('https://www.imdb.com/chart/top/',headers=HEADERS)\n",
    "    source.raise_for_status()\n",
    "    \n",
    "    soup =BeautifulSoup(source.text,'html.parser')\n",
    "    movies = soup.find('ul',class_=\"ipc-metadata-list ipc-metadata-list--dividers-between sc-a1e81754-0 dHaCOW compact-list-view ipc-metadata-list--base\").find_all(\"li\")\n",
    "\n",
    "    for movie in movies:\n",
    "        name = movie.find('div',class_=\"ipc-title ipc-title--base ipc-title--title ipc-title-link-no-icon ipc-title--on-textPrimary sc-b189961a-9 bnSrml cli-title\").get_text(strip=True).split('.')[1]\n",
    "        rank = movie.find('div',class_=\"ipc-title ipc-title--base ipc-title--title ipc-title-link-no-icon ipc-title--on-textPrimary sc-b189961a-9 bnSrml cli-title\").get_text(strip=True).split('.')[0]\n",
    "        year= movie.find('div',class_=\"sc-b189961a-7 btCcOY cli-title-metadata\").find('span',attrs={'class':'sc-b189961a-8 hCbzGp cli-title-metadata-item'}).text\n",
    "        rating=movie.find('div',class_=\"sc-e2dbc1a3-0 jeHPdh sc-b189961a-2 bglYHz cli-ratings-container\").find('span',attrs={'class':'ipc-rating-star--rating'}).text\n",
    "        print(rank,name,year,rating)\n",
    "        sheet.append([rank,name,year,rating])\n",
    "        \n",
    "        \n",
    "except Exception as e:\n",
    "    print(e)\n",
    "\n",
    "excel.save('Top Rated Movies.xlsx')"
   ]
  },
  {
   "cell_type": "code",
   "execution_count": null,
   "id": "1fa5dfda-88dd-491f-9fd2-ae06cd7bd5c7",
   "metadata": {},
   "outputs": [],
   "source": []
  },
  {
   "cell_type": "code",
   "execution_count": null,
   "id": "1cc31dfd-b62d-4f60-8f73-e1f260b3ba95",
   "metadata": {},
   "outputs": [],
   "source": []
  }
 ],
 "metadata": {
  "kernelspec": {
   "display_name": "Python 3 (ipykernel)",
   "language": "python",
   "name": "python3"
  },
  "language_info": {
   "codemirror_mode": {
    "name": "ipython",
    "version": 3
   },
   "file_extension": ".py",
   "mimetype": "text/x-python",
   "name": "python",
   "nbconvert_exporter": "python",
   "pygments_lexer": "ipython3",
   "version": "3.11.7"
  }
 },
 "nbformat": 4,
 "nbformat_minor": 5
}
